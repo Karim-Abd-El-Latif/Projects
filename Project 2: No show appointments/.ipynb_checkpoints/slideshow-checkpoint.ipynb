{
 "cells": [
  {
   "cell_type": "markdown",
   "id": "b1235b74",
   "metadata": {
    "slideshow": {
     "slide_type": "slide"
    }
   },
   "source": [
    "# __Analysis of medical appointments in Brazil__\n",
    "This file explores a data set which has information about 100k medical appointments in Brazil and is focused on the question of whether or not patients show up for their appointment.\n",
    "\n",
    "In this presentation, you will see the step-by-step code. The code will be explained and also some comments will be given regarding the findings.\n",
    "\n",
    "It is recommended to use RISE to view this analysis as it has been optimized for it."
   ]
  },
  {
   "cell_type": "markdown",
   "id": "de2222f7",
   "metadata": {
    "slideshow": {
     "slide_type": "slide"
    }
   },
   "source": [
    "__First, let us start by importing the packages we will need and then read the csv file using Pandas.__"
   ]
  },
  {
   "cell_type": "code",
   "execution_count": 1,
   "id": "ab2bdaf7",
   "metadata": {
    "slideshow": {
     "slide_type": "fragment"
    }
   },
   "outputs": [],
   "source": [
    "import numpy as np\n",
    "import pandas as pd\n",
    "import matplotlib.pyplot as plt\n",
    "\n",
    "df = pd.read_csv('no_show_appointments.csv')"
   ]
  },
  {
   "cell_type": "markdown",
   "id": "8a8ca705",
   "metadata": {
    "slideshow": {
     "slide_type": "slide"
    }
   },
   "source": [
    "__Let's check if we have there are any duplicates or missing values in the data.__"
   ]
  },
  {
   "cell_type": "code",
   "execution_count": 2,
   "id": "1ee734cd",
   "metadata": {
    "slideshow": {
     "slide_type": "fragment"
    }
   },
   "outputs": [
    {
     "data": {
      "text/plain": [
       "0"
      ]
     },
     "execution_count": 2,
     "metadata": {},
     "output_type": "execute_result"
    }
   ],
   "source": [
    "# check number of duplicates\n",
    "df.duplicated().sum()"
   ]
  },
  {
   "cell_type": "code",
   "execution_count": 3,
   "id": "fc897e34",
   "metadata": {
    "slideshow": {
     "slide_type": "fragment"
    }
   },
   "outputs": [
    {
     "data": {
      "text/plain": [
       "0"
      ]
     },
     "execution_count": 3,
     "metadata": {},
     "output_type": "execute_result"
    }
   ],
   "source": [
    "# count sum of all null values for all columns\n",
    "df.isnull().sum().sum()"
   ]
  },
  {
   "cell_type": "markdown",
   "id": "1af14971",
   "metadata": {
    "slideshow": {
     "slide_type": "fragment"
    }
   },
   "source": [
    "__Great! No duplications or missing values. Now we can move forward with the analysis.__"
   ]
  },
  {
   "cell_type": "markdown",
   "id": "6efb172f",
   "metadata": {
    "slideshow": {
     "slide_type": "slide"
    }
   },
   "source": [
    "__Next, let's view the column headings as well as the data to check if we need to make any data wrangling.__"
   ]
  },
  {
   "cell_type": "code",
   "execution_count": 4,
   "id": "5f2f4fd3",
   "metadata": {
    "slideshow": {
     "slide_type": "fragment"
    }
   },
   "outputs": [
    {
     "data": {
      "text/html": [
       "<div>\n",
       "<style scoped>\n",
       "    .dataframe tbody tr th:only-of-type {\n",
       "        vertical-align: middle;\n",
       "    }\n",
       "\n",
       "    .dataframe tbody tr th {\n",
       "        vertical-align: top;\n",
       "    }\n",
       "\n",
       "    .dataframe thead th {\n",
       "        text-align: right;\n",
       "    }\n",
       "</style>\n",
       "<table border=\"1\" class=\"dataframe\">\n",
       "  <thead>\n",
       "    <tr style=\"text-align: right;\">\n",
       "      <th></th>\n",
       "      <th>PatientId</th>\n",
       "      <th>AppointmentID</th>\n",
       "      <th>Gender</th>\n",
       "      <th>ScheduledDay</th>\n",
       "      <th>AppointmentDay</th>\n",
       "      <th>Age</th>\n",
       "      <th>Neighbourhood</th>\n",
       "      <th>Scholarship</th>\n",
       "      <th>Hipertension</th>\n",
       "      <th>Diabetes</th>\n",
       "      <th>Alcoholism</th>\n",
       "      <th>Handcap</th>\n",
       "      <th>SMS_received</th>\n",
       "      <th>No-show</th>\n",
       "    </tr>\n",
       "  </thead>\n",
       "  <tbody>\n",
       "    <tr>\n",
       "      <th>0</th>\n",
       "      <td>2.987250e+13</td>\n",
       "      <td>5642903</td>\n",
       "      <td>F</td>\n",
       "      <td>2016-04-29T18:38:08Z</td>\n",
       "      <td>2016-04-29T00:00:00Z</td>\n",
       "      <td>62</td>\n",
       "      <td>JARDIM DA PENHA</td>\n",
       "      <td>0</td>\n",
       "      <td>1</td>\n",
       "      <td>0</td>\n",
       "      <td>0</td>\n",
       "      <td>0</td>\n",
       "      <td>0</td>\n",
       "      <td>No</td>\n",
       "    </tr>\n",
       "    <tr>\n",
       "      <th>1</th>\n",
       "      <td>5.589978e+14</td>\n",
       "      <td>5642503</td>\n",
       "      <td>M</td>\n",
       "      <td>2016-04-29T16:08:27Z</td>\n",
       "      <td>2016-04-29T00:00:00Z</td>\n",
       "      <td>56</td>\n",
       "      <td>JARDIM DA PENHA</td>\n",
       "      <td>0</td>\n",
       "      <td>0</td>\n",
       "      <td>0</td>\n",
       "      <td>0</td>\n",
       "      <td>0</td>\n",
       "      <td>0</td>\n",
       "      <td>No</td>\n",
       "    </tr>\n",
       "    <tr>\n",
       "      <th>2</th>\n",
       "      <td>4.262962e+12</td>\n",
       "      <td>5642549</td>\n",
       "      <td>F</td>\n",
       "      <td>2016-04-29T16:19:04Z</td>\n",
       "      <td>2016-04-29T00:00:00Z</td>\n",
       "      <td>62</td>\n",
       "      <td>MATA DA PRAIA</td>\n",
       "      <td>0</td>\n",
       "      <td>0</td>\n",
       "      <td>0</td>\n",
       "      <td>0</td>\n",
       "      <td>0</td>\n",
       "      <td>0</td>\n",
       "      <td>No</td>\n",
       "    </tr>\n",
       "  </tbody>\n",
       "</table>\n",
       "</div>"
      ],
      "text/plain": [
       "      PatientId  AppointmentID Gender          ScheduledDay  \\\n",
       "0  2.987250e+13        5642903      F  2016-04-29T18:38:08Z   \n",
       "1  5.589978e+14        5642503      M  2016-04-29T16:08:27Z   \n",
       "2  4.262962e+12        5642549      F  2016-04-29T16:19:04Z   \n",
       "\n",
       "         AppointmentDay  Age    Neighbourhood  Scholarship  Hipertension  \\\n",
       "0  2016-04-29T00:00:00Z   62  JARDIM DA PENHA            0             1   \n",
       "1  2016-04-29T00:00:00Z   56  JARDIM DA PENHA            0             0   \n",
       "2  2016-04-29T00:00:00Z   62    MATA DA PRAIA            0             0   \n",
       "\n",
       "   Diabetes  Alcoholism  Handcap  SMS_received No-show  \n",
       "0         0           0        0             0      No  \n",
       "1         0           0        0             0      No  \n",
       "2         0           0        0             0      No  "
      ]
     },
     "execution_count": 4,
     "metadata": {},
     "output_type": "execute_result"
    }
   ],
   "source": [
    "df.head(3)"
   ]
  },
  {
   "cell_type": "markdown",
   "id": "056a797a",
   "metadata": {
    "slideshow": {
     "slide_type": "slide"
    }
   },
   "source": [
    "__It appears that we will need to make several edits to this dataset to make it easier to work with. First, let's rename the columns to make them a bit easier to work with.__"
   ]
  },
  {
   "cell_type": "code",
   "execution_count": 5,
   "id": "f539ffaa",
   "metadata": {
    "slideshow": {
     "slide_type": "fragment"
    }
   },
   "outputs": [],
   "source": [
    "# change columns names to be easier to work with and fix data types\n",
    "# list with the updated columns names\n",
    "updated_columns = ['patient_id','appointment_id','gender','scheduled_day',\n",
    "                   'appointment_day','age','neighbourhood','scholarship',\n",
    "                   'hypertension','diabetes','alcoholism','handicap',\n",
    "                   'sms_received','no_show']\n",
    "# update columns names in the data frame\n",
    "df.columns = updated_columns"
   ]
  },
  {
   "cell_type": "markdown",
   "id": "9491c8d8",
   "metadata": {
    "slideshow": {
     "slide_type": "slide"
    }
   },
   "source": [
    "__The ScheduledDay and AppointmentDay (now scheduled_day and appointment_day respectively) seem to contain the date and time of the appointments. Since we won't need the time, let's remove it from the column to make data easier to work with.__"
   ]
  },
  {
   "cell_type": "code",
   "execution_count": 6,
   "id": "d107a52e",
   "metadata": {
    "slideshow": {
     "slide_type": "fragment"
    }
   },
   "outputs": [
    {
     "data": {
      "text/html": [
       "<div>\n",
       "<style scoped>\n",
       "    .dataframe tbody tr th:only-of-type {\n",
       "        vertical-align: middle;\n",
       "    }\n",
       "\n",
       "    .dataframe tbody tr th {\n",
       "        vertical-align: top;\n",
       "    }\n",
       "\n",
       "    .dataframe thead th {\n",
       "        text-align: right;\n",
       "    }\n",
       "</style>\n",
       "<table border=\"1\" class=\"dataframe\">\n",
       "  <thead>\n",
       "    <tr style=\"text-align: right;\">\n",
       "      <th></th>\n",
       "      <th>patient_id</th>\n",
       "      <th>appointment_id</th>\n",
       "      <th>gender</th>\n",
       "      <th>scheduled_day</th>\n",
       "      <th>appointment_day</th>\n",
       "      <th>age</th>\n",
       "      <th>neighbourhood</th>\n",
       "      <th>scholarship</th>\n",
       "      <th>hypertension</th>\n",
       "      <th>diabetes</th>\n",
       "      <th>alcoholism</th>\n",
       "      <th>handicap</th>\n",
       "      <th>sms_received</th>\n",
       "      <th>no_show</th>\n",
       "    </tr>\n",
       "  </thead>\n",
       "  <tbody>\n",
       "    <tr>\n",
       "      <th>0</th>\n",
       "      <td>2.987250e+13</td>\n",
       "      <td>5642903</td>\n",
       "      <td>F</td>\n",
       "      <td>2016-04-29</td>\n",
       "      <td>2016-04-29</td>\n",
       "      <td>62</td>\n",
       "      <td>JARDIM DA PENHA</td>\n",
       "      <td>0</td>\n",
       "      <td>1</td>\n",
       "      <td>0</td>\n",
       "      <td>0</td>\n",
       "      <td>0</td>\n",
       "      <td>0</td>\n",
       "      <td>No</td>\n",
       "    </tr>\n",
       "    <tr>\n",
       "      <th>1</th>\n",
       "      <td>5.589978e+14</td>\n",
       "      <td>5642503</td>\n",
       "      <td>M</td>\n",
       "      <td>2016-04-29</td>\n",
       "      <td>2016-04-29</td>\n",
       "      <td>56</td>\n",
       "      <td>JARDIM DA PENHA</td>\n",
       "      <td>0</td>\n",
       "      <td>0</td>\n",
       "      <td>0</td>\n",
       "      <td>0</td>\n",
       "      <td>0</td>\n",
       "      <td>0</td>\n",
       "      <td>No</td>\n",
       "    </tr>\n",
       "    <tr>\n",
       "      <th>2</th>\n",
       "      <td>4.262962e+12</td>\n",
       "      <td>5642549</td>\n",
       "      <td>F</td>\n",
       "      <td>2016-04-29</td>\n",
       "      <td>2016-04-29</td>\n",
       "      <td>62</td>\n",
       "      <td>MATA DA PRAIA</td>\n",
       "      <td>0</td>\n",
       "      <td>0</td>\n",
       "      <td>0</td>\n",
       "      <td>0</td>\n",
       "      <td>0</td>\n",
       "      <td>0</td>\n",
       "      <td>No</td>\n",
       "    </tr>\n",
       "  </tbody>\n",
       "</table>\n",
       "</div>"
      ],
      "text/plain": [
       "     patient_id  appointment_id gender scheduled_day appointment_day  age  \\\n",
       "0  2.987250e+13         5642903      F    2016-04-29      2016-04-29   62   \n",
       "1  5.589978e+14         5642503      M    2016-04-29      2016-04-29   56   \n",
       "2  4.262962e+12         5642549      F    2016-04-29      2016-04-29   62   \n",
       "\n",
       "     neighbourhood  scholarship  hypertension  diabetes  alcoholism  handicap  \\\n",
       "0  JARDIM DA PENHA            0             1         0           0         0   \n",
       "1  JARDIM DA PENHA            0             0         0           0         0   \n",
       "2    MATA DA PRAIA            0             0         0           0         0   \n",
       "\n",
       "   sms_received no_show  \n",
       "0             0      No  \n",
       "1             0      No  \n",
       "2             0      No  "
      ]
     },
     "execution_count": 6,
     "metadata": {},
     "output_type": "execute_result"
    }
   ],
   "source": [
    "# get dates for both scheduled_day and appointment_day columns by removing unecessary characters\n",
    "df['scheduled_day'] = df['scheduled_day'].apply(lambda x: x[:10])\n",
    "df['appointment_day'] = df['appointment_day'].apply(lambda x: x[:10])\n",
    "df.head(3)"
   ]
  },
  {
   "cell_type": "markdown",
   "id": "835a7061",
   "metadata": {
    "slideshow": {
     "slide_type": "slide"
    }
   },
   "source": [
    "__Much better! Now we will be able to analyse this data.__"
   ]
  },
  {
   "cell_type": "markdown",
   "id": "861fff9d",
   "metadata": {
    "slideshow": {
     "slide_type": "fragment"
    }
   },
   "source": [
    "__Let's start by analysing the data based on gender. To do this, let's make two sub dataframes: one for males and one for females.__"
   ]
  },
  {
   "cell_type": "code",
   "execution_count": 7,
   "id": "e4c55265",
   "metadata": {
    "slideshow": {
     "slide_type": "fragment"
    }
   },
   "outputs": [],
   "source": [
    "# make a new dataframe, df_gender to have only gender and no_show columns\n",
    "df_gender = df.loc[:,['gender','no_show']]\n",
    "\n",
    "# further divide the dataframe above into 2 dataframes, one for males\n",
    "# and one for females:\n",
    "df_males = df_gender.query(\"gender == 'M'\")\n",
    "df_females = df_gender.query(\"gender == 'F'\")"
   ]
  },
  {
   "cell_type": "markdown",
   "id": "7f97d5f8",
   "metadata": {
    "slideshow": {
     "slide_type": "slide"
    }
   },
   "source": [
    "__Now, let's calculate the percentage of show and no show for both males and females.__"
   ]
  },
  {
   "cell_type": "code",
   "execution_count": 8,
   "id": "b5eee622",
   "metadata": {
    "slideshow": {
     "slide_type": "fragment"
    }
   },
   "outputs": [],
   "source": [
    "# get show and no show % for males\n",
    "appointments_males_total = df_males.shape[0]\n",
    "appointments_males_show = df_males['no_show'].value_counts()['No'] /\\\n",
    "                          appointments_males_total * 100\n",
    "appointments_males_noshow = df_males['no_show'].value_counts()['Yes'] /\\\n",
    "                            appointments_males_total * 100\n",
    "\n",
    "# get show and no show % for females\n",
    "appointments_females_total = df_females.shape[0]\n",
    "appointments_females_show = df_females['no_show'].value_counts()['No'] /\\\n",
    "                            appointments_females_total * 100\n",
    "appointments_females_noshow = df_females['no_show'].value_counts()['Yes'] /\\\n",
    "                              appointments_females_total * 100"
   ]
  },
  {
   "cell_type": "markdown",
   "id": "a5fc550a",
   "metadata": {
    "slideshow": {
     "slide_type": "slide"
    }
   },
   "source": [
    "__We will plot the results on the next slide. Before we do, think for a moment - which do you think is more unlikely to show up, males or females?__\n",
    "\n",
    "__Made up your mind? Let's move to the next slide and find out!__"
   ]
  },
  {
   "cell_type": "code",
   "execution_count": 9,
   "id": "a891fd76",
   "metadata": {
    "slideshow": {
     "slide_type": "slide"
    }
   },
   "outputs": [
    {
     "data": {
      "image/png": "[encoded data removed]",
      "text/plain": [
       "<Figure size 432x288 with 2 Axes>"
      ]
     },
     "metadata": {
      "needs_background": "light"
     },
     "output_type": "display_data"
    }
   ],
   "source": [
    "# use subplot in both of the below to print the graphs side by side\n",
    "# use subplot_adjust to put space between graphs to avoid overlap\n",
    "# add graph details and plot using data above\n",
    "plt.tight_layout()\n",
    "plt.subplot(1,2,1)\n",
    "plt.subplots_adjust(right=1.5)\n",
    "plt.title('Show vs. no show % for male appointments')\n",
    "plt.ylabel('Percentage')\n",
    "plt.bar(['Show','No show'],[appointments_males_show, appointments_males_noshow]);\n",
    "\n",
    "# add graph details and plot using data above\n",
    "plt.subplot(1,2,2)\n",
    "plt.title('Show vs. no show % for female appointments')\n",
    "plt.ylabel('Percentage')\n",
    "plt.bar(['Show','No show'],[appointments_females_show, appointments_females_noshow],color='orange');"
   ]
  },
  {
   "cell_type": "markdown",
   "id": "23af4ad2",
   "metadata": {
    "slideshow": {
     "slide_type": "slide"
    }
   },
   "source": [
    "__As you saw in the last two plots, they are almost identical! There is a very small difference; 79.7% of the females show up for their appointments while 80.0% of the males do. This means that for being a male or female in Brazil does not significantly affect your chances to go to your appointment. Was that what you expected or was it a surprise?__\n",
    "\n",
    "__Let's move on to analysing other variables!__"
   ]
  },
  {
   "cell_type": "markdown",
   "id": "fd5e387e",
   "metadata": {
    "slideshow": {
     "slide_type": "slide"
    }
   },
   "source": [
    "__Are patients more or less likely to go to their appointments if they book it on the same day? Let's find out.__"
   ]
  },
  {
   "cell_type": "markdown",
   "id": "6887caee",
   "metadata": {
    "slideshow": {
     "slide_type": "slide"
    }
   },
   "source": [
    "__To do this, let's add a new row, same_day, which says True if scheduled_day and appointment_day are equal and False if they are not.__"
   ]
  },
  {
   "cell_type": "code",
   "execution_count": 10,
   "id": "52d2eff8",
   "metadata": {
    "slideshow": {
     "slide_type": "fragment"
    }
   },
   "outputs": [
    {
     "data": {
      "text/html": [
       "<div>\n",
       "<style scoped>\n",
       "    .dataframe tbody tr th:only-of-type {\n",
       "        vertical-align: middle;\n",
       "    }\n",
       "\n",
       "    .dataframe tbody tr th {\n",
       "        vertical-align: top;\n",
       "    }\n",
       "\n",
       "    .dataframe thead th {\n",
       "        text-align: right;\n",
       "    }\n",
       "</style>\n",
       "<table border=\"1\" class=\"dataframe\">\n",
       "  <thead>\n",
       "    <tr style=\"text-align: right;\">\n",
       "      <th></th>\n",
       "      <th>patient_id</th>\n",
       "      <th>appointment_id</th>\n",
       "      <th>gender</th>\n",
       "      <th>scheduled_day</th>\n",
       "      <th>appointment_day</th>\n",
       "      <th>age</th>\n",
       "      <th>neighbourhood</th>\n",
       "      <th>scholarship</th>\n",
       "      <th>hypertension</th>\n",
       "      <th>diabetes</th>\n",
       "      <th>alcoholism</th>\n",
       "      <th>handicap</th>\n",
       "      <th>sms_received</th>\n",
       "      <th>no_show</th>\n",
       "      <th>same_day</th>\n",
       "    </tr>\n",
       "  </thead>\n",
       "  <tbody>\n",
       "    <tr>\n",
       "      <th>0</th>\n",
       "      <td>2.987250e+13</td>\n",
       "      <td>5642903</td>\n",
       "      <td>F</td>\n",
       "      <td>2016-04-29</td>\n",
       "      <td>2016-04-29</td>\n",
       "      <td>62</td>\n",
       "      <td>JARDIM DA PENHA</td>\n",
       "      <td>0</td>\n",
       "      <td>1</td>\n",
       "      <td>0</td>\n",
       "      <td>0</td>\n",
       "      <td>0</td>\n",
       "      <td>0</td>\n",
       "      <td>No</td>\n",
       "      <td>True</td>\n",
       "    </tr>\n",
       "    <tr>\n",
       "      <th>1</th>\n",
       "      <td>5.589978e+14</td>\n",
       "      <td>5642503</td>\n",
       "      <td>M</td>\n",
       "      <td>2016-04-29</td>\n",
       "      <td>2016-04-29</td>\n",
       "      <td>56</td>\n",
       "      <td>JARDIM DA PENHA</td>\n",
       "      <td>0</td>\n",
       "      <td>0</td>\n",
       "      <td>0</td>\n",
       "      <td>0</td>\n",
       "      <td>0</td>\n",
       "      <td>0</td>\n",
       "      <td>No</td>\n",
       "      <td>True</td>\n",
       "    </tr>\n",
       "    <tr>\n",
       "      <th>2</th>\n",
       "      <td>4.262962e+12</td>\n",
       "      <td>5642549</td>\n",
       "      <td>F</td>\n",
       "      <td>2016-04-29</td>\n",
       "      <td>2016-04-29</td>\n",
       "      <td>62</td>\n",
       "      <td>MATA DA PRAIA</td>\n",
       "      <td>0</td>\n",
       "      <td>0</td>\n",
       "      <td>0</td>\n",
       "      <td>0</td>\n",
       "      <td>0</td>\n",
       "      <td>0</td>\n",
       "      <td>No</td>\n",
       "      <td>True</td>\n",
       "    </tr>\n",
       "  </tbody>\n",
       "</table>\n",
       "</div>"
      ],
      "text/plain": [
       "     patient_id  appointment_id gender scheduled_day appointment_day  age  \\\n",
       "0  2.987250e+13         5642903      F    2016-04-29      2016-04-29   62   \n",
       "1  5.589978e+14         5642503      M    2016-04-29      2016-04-29   56   \n",
       "2  4.262962e+12         5642549      F    2016-04-29      2016-04-29   62   \n",
       "\n",
       "     neighbourhood  scholarship  hypertension  diabetes  alcoholism  handicap  \\\n",
       "0  JARDIM DA PENHA            0             1         0           0         0   \n",
       "1  JARDIM DA PENHA            0             0         0           0         0   \n",
       "2    MATA DA PRAIA            0             0         0           0         0   \n",
       "\n",
       "   sms_received no_show  same_day  \n",
       "0             0      No      True  \n",
       "1             0      No      True  \n",
       "2             0      No      True  "
      ]
     },
     "execution_count": 10,
     "metadata": {},
     "output_type": "execute_result"
    }
   ],
   "source": [
    "df['same_day'] = df['scheduled_day'] == df['appointment_day']\n",
    "df.head(3)"
   ]
  },
  {
   "cell_type": "markdown",
   "id": "c9049c3d",
   "metadata": {
    "slideshow": {
     "slide_type": "slide"
    }
   },
   "source": [
    "__Now, let's make two new sub dataframes: One where the appointment was set up on the same day (In other words, scheduled_day is equal to appointment_day) and the other where the appointment was NOT set up on the same day.__"
   ]
  },
  {
   "cell_type": "code",
   "execution_count": 11,
   "id": "d7e5e3f4",
   "metadata": {
    "slideshow": {
     "slide_type": "fragment"
    }
   },
   "outputs": [],
   "source": [
    "df_same_day = df.query(\"same_day == True\")\n",
    "df_not_same_day = df.query(\"same_day == False\")"
   ]
  },
  {
   "cell_type": "markdown",
   "id": "02c4ecc5",
   "metadata": {
    "slideshow": {
     "slide_type": "slide"
    }
   },
   "source": [
    "__Let's check if having scheduling an appointment for the same day affects the chances of the patient going to that appointment.__\n",
    "\n",
    "__We can do this by checking the percentage of people in our new sub dataframes.__"
   ]
  },
  {
   "cell_type": "markdown",
   "id": "557c7c13",
   "metadata": {
    "slideshow": {
     "slide_type": "slide"
    }
   },
   "source": [
    "__First, let's do some calculations..__"
   ]
  },
  {
   "cell_type": "code",
   "execution_count": 12,
   "id": "f0fa8a3c",
   "metadata": {
    "slideshow": {
     "slide_type": "fragment"
    }
   },
   "outputs": [],
   "source": [
    "# get show and no show % for same day appointments\n",
    "appointments_same_day_total = df_same_day.shape[0]\n",
    "appointments_same_day_show = df_same_day['no_show'].value_counts()['No'] /\\\n",
    "                             appointments_same_day_total * 100\n",
    "appointments_same_day_noshow = df_same_day['no_show'].value_counts()['Yes'] /\\\n",
    "                             appointments_same_day_total * 100\n",
    "# get show and no show % for appointments scheduled and done in different days\n",
    "appointments_not_same_day_total = df_not_same_day.shape[0]\n",
    "appointments_not_same_day_show = df_not_same_day['no_show'].value_counts()['No'] /\\\n",
    "                                 appointments_not_same_day_total * 100\n",
    "appointments_not_same_day_noshow = df_not_same_day['no_show'].value_counts()['Yes'] /\\\n",
    "                                 appointments_not_same_day_total * 100"
   ]
  },
  {
   "cell_type": "markdown",
   "id": "6ff3ef8a",
   "metadata": {
    "slideshow": {
     "slide_type": "slide"
    }
   },
   "source": [
    "__Now, let's plot the results!__"
   ]
  },
  {
   "cell_type": "code",
   "execution_count": 13,
   "id": "c42f6815",
   "metadata": {
    "slideshow": {
     "slide_type": "fragment"
    }
   },
   "outputs": [
    {
     "data": {
      "image/png": "[encoded data removed]",
      "text/plain": [
       "<Figure size 432x288 with 1 Axes>"
      ]
     },
     "metadata": {
      "needs_background": "light"
     },
     "output_type": "display_data"
    }
   ],
   "source": [
    "# setup the graph and then plot it\n",
    "df_days_showups = pd.DataFrame({\n",
    "    '': ['Same day', 'Different days'],\n",
    "    'Show': [appointments_same_day_show, appointments_not_same_day_show],\n",
    "    'No show': [appointments_same_day_noshow, appointments_not_same_day_noshow]\n",
    "    })\n",
    "  \n",
    "df_days_showups.plot(x = '', y = ['Show', 'No show'], kind= 'bar' , ylabel = 'Percentage');"
   ]
  },
  {
   "cell_type": "markdown",
   "id": "f007ffd9",
   "metadata": {
    "slideshow": {
     "slide_type": "slide"
    }
   },
   "source": [
    "__Interesting! It seems the vast majority of the people who book an appointment in the same day attend it.__\n",
    "\n",
    "__Finally, Let's check what percentage of people have hypertension or diabetes or both.__"
   ]
  },
  {
   "cell_type": "markdown",
   "id": "605799a3",
   "metadata": {
    "slideshow": {
     "slide_type": "slide"
    }
   },
   "source": [
    "__Let's modify our data by adding a new column which shows whether a patient has a health condition (diabetes or hyper tension or both).__"
   ]
  },
  {
   "cell_type": "code",
   "execution_count": 28,
   "id": "96b9bffa",
   "metadata": {
    "slideshow": {
     "slide_type": "fragment"
    }
   },
   "outputs": [
    {
     "name": "stdout",
     "output_type": "stream",
     "text": [
      "110527 110527\n"
     ]
    }
   ],
   "source": [
    "# add a health_condition column, which has a value bigger than 0 if patient has no\n",
    "# health conditions, 1 if he has diabetes or hypertension, and 2 if he has both.\n",
    "\n",
    "df['health_condition'] = df['hypertension']+df['diabetes']\n",
    "\n",
    "# add two sub dataframes, one which contains patients which have hypertension or\n",
    "# diabetes or both, and the other which contains patients who have neither.\n",
    "df_health_condition_true = df.query('health_condition > 0')\n",
    "df_health_condition_false = df.query('health_condition == 0')"
   ]
  },
  {
   "cell_type": "markdown",
   "id": "eeca6618",
   "metadata": {
    "slideshow": {
     "slide_type": "slide"
    }
   },
   "source": [
    "__Now, let's use these new dataframes to plot the proportion of people who have at at least one health condition:__"
   ]
  },
  {
   "cell_type": "code",
   "execution_count": 47,
   "id": "b8741c74",
   "metadata": {},
   "outputs": [
    {
     "data": {
      "image/png": "[encoded data removed]",
      "text/plain": [
       "<Figure size 432x288 with 1 Axes>"
      ]
     },
     "metadata": {},
     "output_type": "display_data"
    }
   ],
   "source": [
    "# get number of patients with and without health conditions\n",
    "patients_with_health_conditions = df_health_condition_true.shape[0]\n",
    "patients_without_health_conditions = df_health_condition_false.shape[0]\n",
    "\n",
    "# setup the array for the pie chart, then plot the pie chart\n",
    "data = np.array([patients_with_health_conditions, patients_without_health_conditions])\n",
    "pie_labels = ['Has at least 1 health condition(s)', 'Has no health conditions']\n",
    "pie_colors = ['orangered','limegreen']\n",
    "plt.pie(data, labels = pie_labels, colors = pie_colors, autopct='%1.0f%%');"
   ]
  }
 ],
 "metadata": {
  "celltoolbar": "Slideshow",
  "kernelspec": {
   "display_name": "Python 3 (ipykernel)",
   "language": "python",
   "name": "python3"
  },
  "language_info": {
   "codemirror_mode": {
    "name": "ipython",
    "version": 3
   },
   "file_extension": ".py",
   "mimetype": "text/x-python",
   "name": "python",
   "nbconvert_exporter": "python",
   "pygments_lexer": "ipython3",
   "version": "3.9.7"
  },
  "rise": {
   "scroll": true
  }
 },
 "nbformat": 4,
 "nbformat_minor": 5
}
