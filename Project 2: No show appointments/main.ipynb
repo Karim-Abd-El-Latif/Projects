{
 "cells": [
  {
   "cell_type": "markdown",
   "id": "b1235b74",
   "metadata": {
    "slideshow": {
     "slide_type": "slide"
    }
   },
   "source": [
    "# __Analysis of medical appointments in Brazil__\n",
    "This file explores a data set which has information about 100k medical appointments in Brazil and is focused on the question of whether or not patients show up for their appointment. Afterwards, an unrelated extra pie chart is included to visualise the data.\n",
    "\n",
    "In this presentation, you will see the step-by-step code. The code will be explained and also some comments will be given regarding the findings.\n",
    "\n",
    "It is recommended to use RISE to view this analysis as it has been optimized for it."
   ]
  },
  {
   "cell_type": "markdown",
   "id": "de2222f7",
   "metadata": {
    "slideshow": {
     "slide_type": "slide"
    }
   },
   "source": [
    "__First, let us start by importing the packages we will need and then read the csv file using Pandas.__"
   ]
  },
  {
   "cell_type": "code",
   "execution_count": 1,
   "id": "ab2bdaf7",
   "metadata": {
    "slideshow": {
     "slide_type": "fragment"
    }
   },
   "outputs": [],
   "source": [
    "import numpy as np\n",
    "import pandas as pd\n",
    "import matplotlib.pyplot as plt\n",
    "\n",
    "df = pd.read_csv('no_show_appointments.csv')"
   ]
  },
  {
   "cell_type": "markdown",
   "id": "8a8ca705",
   "metadata": {
    "slideshow": {
     "slide_type": "slide"
    }
   },
   "source": [
    "__Let's check if we have there are any duplicates or missing values in the data.__"
   ]
  },
  {
   "cell_type": "code",
   "execution_count": 2,
   "id": "1ee734cd",
   "metadata": {
    "slideshow": {
     "slide_type": "fragment"
    }
   },
   "outputs": [
    {
     "data": {
      "text/plain": [
       "0"
      ]
     },
     "execution_count": 2,
     "metadata": {},
     "output_type": "execute_result"
    }
   ],
   "source": [
    "# check number of duplicates\n",
    "df.duplicated().sum()"
   ]
  },
  {
   "cell_type": "code",
   "execution_count": 3,
   "id": "fc897e34",
   "metadata": {
    "slideshow": {
     "slide_type": "fragment"
    }
   },
   "outputs": [
    {
     "data": {
      "text/plain": [
       "0"
      ]
     },
     "execution_count": 3,
     "metadata": {},
     "output_type": "execute_result"
    }
   ],
   "source": [
    "# count sum of all null values for all columns\n",
    "df.isnull().sum().sum()"
   ]
  },
  {
   "cell_type": "markdown",
   "id": "1af14971",
   "metadata": {
    "slideshow": {
     "slide_type": "fragment"
    }
   },
   "source": [
    "__Great! No duplications or missing values. Now we can move forward with the analysis.__"
   ]
  },
  {
   "cell_type": "markdown",
   "id": "6efb172f",
   "metadata": {
    "slideshow": {
     "slide_type": "slide"
    }
   },
   "source": [
    "__Next, let's view the column headings as well as the data to check if we need to make any data wrangling.__"
   ]
  },
  {
   "cell_type": "code",
   "execution_count": 4,
   "id": "5f2f4fd3",
   "metadata": {
    "slideshow": {
     "slide_type": "fragment"
    }
   },
   "outputs": [
    {
     "data": {
      "text/html": [
       "<div>\n",
       "<style scoped>\n",
       "    .dataframe tbody tr th:only-of-type {\n",
       "        vertical-align: middle;\n",
       "    }\n",
       "\n",
       "    .dataframe tbody tr th {\n",
       "        vertical-align: top;\n",
       "    }\n",
       "\n",
       "    .dataframe thead th {\n",
       "        text-align: right;\n",
       "    }\n",
       "</style>\n",
       "<table border=\"1\" class=\"dataframe\">\n",
       "  <thead>\n",
       "    <tr style=\"text-align: right;\">\n",
       "      <th></th>\n",
       "      <th>PatientId</th>\n",
       "      <th>AppointmentID</th>\n",
       "      <th>Gender</th>\n",
       "      <th>ScheduledDay</th>\n",
       "      <th>AppointmentDay</th>\n",
       "      <th>Age</th>\n",
       "      <th>Neighbourhood</th>\n",
       "      <th>Scholarship</th>\n",
       "      <th>Hipertension</th>\n",
       "      <th>Diabetes</th>\n",
       "      <th>Alcoholism</th>\n",
       "      <th>Handcap</th>\n",
       "      <th>SMS_received</th>\n",
       "      <th>No-show</th>\n",
       "    </tr>\n",
       "  </thead>\n",
       "  <tbody>\n",
       "    <tr>\n",
       "      <th>0</th>\n",
       "      <td>2.987250e+13</td>\n",
       "      <td>5642903</td>\n",
       "      <td>F</td>\n",
       "      <td>2016-04-29T18:38:08Z</td>\n",
       "      <td>2016-04-29T00:00:00Z</td>\n",
       "      <td>62</td>\n",
       "      <td>JARDIM DA PENHA</td>\n",
       "      <td>0</td>\n",
       "      <td>1</td>\n",
       "      <td>0</td>\n",
       "      <td>0</td>\n",
       "      <td>0</td>\n",
       "      <td>0</td>\n",
       "      <td>No</td>\n",
       "    </tr>\n",
       "    <tr>\n",
       "      <th>1</th>\n",
       "      <td>5.589978e+14</td>\n",
       "      <td>5642503</td>\n",
       "      <td>M</td>\n",
       "      <td>2016-04-29T16:08:27Z</td>\n",
       "      <td>2016-04-29T00:00:00Z</td>\n",
       "      <td>56</td>\n",
       "      <td>JARDIM DA PENHA</td>\n",
       "      <td>0</td>\n",
       "      <td>0</td>\n",
       "      <td>0</td>\n",
       "      <td>0</td>\n",
       "      <td>0</td>\n",
       "      <td>0</td>\n",
       "      <td>No</td>\n",
       "    </tr>\n",
       "    <tr>\n",
       "      <th>2</th>\n",
       "      <td>4.262962e+12</td>\n",
       "      <td>5642549</td>\n",
       "      <td>F</td>\n",
       "      <td>2016-04-29T16:19:04Z</td>\n",
       "      <td>2016-04-29T00:00:00Z</td>\n",
       "      <td>62</td>\n",
       "      <td>MATA DA PRAIA</td>\n",
       "      <td>0</td>\n",
       "      <td>0</td>\n",
       "      <td>0</td>\n",
       "      <td>0</td>\n",
       "      <td>0</td>\n",
       "      <td>0</td>\n",
       "      <td>No</td>\n",
       "    </tr>\n",
       "  </tbody>\n",
       "</table>\n",
       "</div>"
      ],
      "text/plain": [
       "      PatientId  AppointmentID Gender          ScheduledDay  \\\n",
       "0  2.987250e+13        5642903      F  2016-04-29T18:38:08Z   \n",
       "1  5.589978e+14        5642503      M  2016-04-29T16:08:27Z   \n",
       "2  4.262962e+12        5642549      F  2016-04-29T16:19:04Z   \n",
       "\n",
       "         AppointmentDay  Age    Neighbourhood  Scholarship  Hipertension  \\\n",
       "0  2016-04-29T00:00:00Z   62  JARDIM DA PENHA            0             1   \n",
       "1  2016-04-29T00:00:00Z   56  JARDIM DA PENHA            0             0   \n",
       "2  2016-04-29T00:00:00Z   62    MATA DA PRAIA            0             0   \n",
       "\n",
       "   Diabetes  Alcoholism  Handcap  SMS_received No-show  \n",
       "0         0           0        0             0      No  \n",
       "1         0           0        0             0      No  \n",
       "2         0           0        0             0      No  "
      ]
     },
     "execution_count": 4,
     "metadata": {},
     "output_type": "execute_result"
    }
   ],
   "source": [
    "df.head(3)"
   ]
  },
  {
   "cell_type": "markdown",
   "id": "056a797a",
   "metadata": {
    "slideshow": {
     "slide_type": "slide"
    }
   },
   "source": [
    "__It appears that we will need to make several edits to this dataset to make it easier to work with. First, let's rename the columns to make them a bit easier to work with.__"
   ]
  },
  {
   "cell_type": "code",
   "execution_count": 5,
   "id": "f539ffaa",
   "metadata": {
    "slideshow": {
     "slide_type": "fragment"
    }
   },
   "outputs": [],
   "source": [
    "# change columns names to be easier to work with and fix data types\n",
    "# list with the updated columns names\n",
    "updated_columns = ['patient_id','appointment_id','gender','scheduled_day',\n",
    "                   'appointment_day','age','neighbourhood','scholarship',\n",
    "                   'hypertension','diabetes','alcoholism','handicap',\n",
    "                   'sms_received','no_show']\n",
    "# update columns names in the data frame\n",
    "df.columns = updated_columns"
   ]
  },
  {
   "cell_type": "markdown",
   "id": "9491c8d8",
   "metadata": {
    "slideshow": {
     "slide_type": "slide"
    }
   },
   "source": [
    "__The ScheduledDay and AppointmentDay (now scheduled_day and appointment_day respectively) seem to contain the date and time of the appointments. Since we won't need the time, let's remove it from the column to make data easier to work with.__"
   ]
  },
  {
   "cell_type": "code",
   "execution_count": 6,
   "id": "d107a52e",
   "metadata": {
    "slideshow": {
     "slide_type": "fragment"
    }
   },
   "outputs": [
    {
     "data": {
      "text/html": [
       "<div>\n",
       "<style scoped>\n",
       "    .dataframe tbody tr th:only-of-type {\n",
       "        vertical-align: middle;\n",
       "    }\n",
       "\n",
       "    .dataframe tbody tr th {\n",
       "        vertical-align: top;\n",
       "    }\n",
       "\n",
       "    .dataframe thead th {\n",
       "        text-align: right;\n",
       "    }\n",
       "</style>\n",
       "<table border=\"1\" class=\"dataframe\">\n",
       "  <thead>\n",
       "    <tr style=\"text-align: right;\">\n",
       "      <th></th>\n",
       "      <th>patient_id</th>\n",
       "      <th>appointment_id</th>\n",
       "      <th>gender</th>\n",
       "      <th>scheduled_day</th>\n",
       "      <th>appointment_day</th>\n",
       "      <th>age</th>\n",
       "      <th>neighbourhood</th>\n",
       "      <th>scholarship</th>\n",
       "      <th>hypertension</th>\n",
       "      <th>diabetes</th>\n",
       "      <th>alcoholism</th>\n",
       "      <th>handicap</th>\n",
       "      <th>sms_received</th>\n",
       "      <th>no_show</th>\n",
       "    </tr>\n",
       "  </thead>\n",
       "  <tbody>\n",
       "    <tr>\n",
       "      <th>0</th>\n",
       "      <td>2.987250e+13</td>\n",
       "      <td>5642903</td>\n",
       "      <td>F</td>\n",
       "      <td>2016-04-29</td>\n",
       "      <td>2016-04-29</td>\n",
       "      <td>62</td>\n",
       "      <td>JARDIM DA PENHA</td>\n",
       "      <td>0</td>\n",
       "      <td>1</td>\n",
       "      <td>0</td>\n",
       "      <td>0</td>\n",
       "      <td>0</td>\n",
       "      <td>0</td>\n",
       "      <td>No</td>\n",
       "    </tr>\n",
       "    <tr>\n",
       "      <th>1</th>\n",
       "      <td>5.589978e+14</td>\n",
       "      <td>5642503</td>\n",
       "      <td>M</td>\n",
       "      <td>2016-04-29</td>\n",
       "      <td>2016-04-29</td>\n",
       "      <td>56</td>\n",
       "      <td>JARDIM DA PENHA</td>\n",
       "      <td>0</td>\n",
       "      <td>0</td>\n",
       "      <td>0</td>\n",
       "      <td>0</td>\n",
       "      <td>0</td>\n",
       "      <td>0</td>\n",
       "      <td>No</td>\n",
       "    </tr>\n",
       "    <tr>\n",
       "      <th>2</th>\n",
       "      <td>4.262962e+12</td>\n",
       "      <td>5642549</td>\n",
       "      <td>F</td>\n",
       "      <td>2016-04-29</td>\n",
       "      <td>2016-04-29</td>\n",
       "      <td>62</td>\n",
       "      <td>MATA DA PRAIA</td>\n",
       "      <td>0</td>\n",
       "      <td>0</td>\n",
       "      <td>0</td>\n",
       "      <td>0</td>\n",
       "      <td>0</td>\n",
       "      <td>0</td>\n",
       "      <td>No</td>\n",
       "    </tr>\n",
       "  </tbody>\n",
       "</table>\n",
       "</div>"
      ],
      "text/plain": [
       "     patient_id  appointment_id gender scheduled_day appointment_day  age  \\\n",
       "0  2.987250e+13         5642903      F    2016-04-29      2016-04-29   62   \n",
       "1  5.589978e+14         5642503      M    2016-04-29      2016-04-29   56   \n",
       "2  4.262962e+12         5642549      F    2016-04-29      2016-04-29   62   \n",
       "\n",
       "     neighbourhood  scholarship  hypertension  diabetes  alcoholism  handicap  \\\n",
       "0  JARDIM DA PENHA            0             1         0           0         0   \n",
       "1  JARDIM DA PENHA            0             0         0           0         0   \n",
       "2    MATA DA PRAIA            0             0         0           0         0   \n",
       "\n",
       "   sms_received no_show  \n",
       "0             0      No  \n",
       "1             0      No  \n",
       "2             0      No  "
      ]
     },
     "execution_count": 6,
     "metadata": {},
     "output_type": "execute_result"
    }
   ],
   "source": [
    "# make a function to get dates for both scheduled_day and appointment_day columns by removing unecessary characters\n",
    "def date_cut(df, column):\n",
    "    df[column] = df[column].apply(lambda x: x[:10])\n",
    "# apply the function to both scheduled_day and appointment_day columns\n",
    "date_cut(df,'scheduled_day')\n",
    "date_cut(df,'appointment_day')\n",
    "df.head(3)"
   ]
  },
  {
   "cell_type": "markdown",
   "id": "835a7061",
   "metadata": {
    "slideshow": {
     "slide_type": "slide"
    }
   },
   "source": [
    "__Much better! Now we will be able to analyse this data.__"
   ]
  },
  {
   "cell_type": "markdown",
   "id": "861fff9d",
   "metadata": {
    "slideshow": {
     "slide_type": "fragment"
    }
   },
   "source": [
    "__Let's start by analysing the data based on gender. To do this, let's make two sub dataframes: one for males and one for females.__"
   ]
  },
  {
   "cell_type": "code",
   "execution_count": 7,
   "id": "e4c55265",
   "metadata": {
    "slideshow": {
     "slide_type": "fragment"
    }
   },
   "outputs": [],
   "source": [
    "# make a new dataframe, df_gender to have only gender and no_show columns\n",
    "df_gender = df.loc[:,['gender','no_show']]\n",
    "\n",
    "# further divide the dataframe above into 2 dataframes, one for males\n",
    "# and one for females:\n",
    "df_males = df_gender.query(\"gender == 'M'\")\n",
    "df_females = df_gender.query(\"gender == 'F'\")"
   ]
  },
  {
   "cell_type": "markdown",
   "id": "7f97d5f8",
   "metadata": {
    "slideshow": {
     "slide_type": "slide"
    }
   },
   "source": [
    "__Now, let's calculate the percentage of show and no show for both males and females.__"
   ]
  },
  {
   "cell_type": "code",
   "execution_count": 8,
   "id": "b5eee622",
   "metadata": {
    "slideshow": {
     "slide_type": "fragment"
    }
   },
   "outputs": [],
   "source": [
    "# make a function to get show rate for any datafame\n",
    "def show_percentage(df):\n",
    "    total_show = df['no_show'].value_counts()['No'] / df.shape[0] * 100\n",
    "    return total_show\n",
    "\n",
    "# get show and no show % for males using the function above\n",
    "appointments_males_show = show_percentage(df_males)\n",
    "appointments_males_noshow = 100 - appointments_males_show\n",
    "\n",
    "# get show and no show % for females using the function above\n",
    "appointments_females_show = show_percentage(df_females)\n",
    "appointments_females_noshow = 100 - appointments_females_show"
   ]
  },
  {
   "cell_type": "markdown",
   "id": "a5fc550a",
   "metadata": {
    "slideshow": {
     "slide_type": "slide"
    }
   },
   "source": [
    "__We will plot the results on the next slide. Before we do, think for a moment - which do you think is more unlikely to show up, males or females?__\n",
    "\n",
    "__Made up your mind? Let's move to the next slide and find out!__"
   ]
  },
  {
   "cell_type": "code",
   "execution_count": 9,
   "id": "a891fd76",
   "metadata": {
    "slideshow": {
     "slide_type": "slide"
    }
   },
   "outputs": [
    {
     "data": {
      "image/png": "[encoded data removed]",
      "text/plain": [
       "<Figure size 432x288 with 2 Axes>"
      ]
     },
     "metadata": {
      "needs_background": "light"
     },
     "output_type": "display_data"
    }
   ],
   "source": [
    "# use subplot in both of the below to print the graphs side by side\n",
    "# use subplot_adjust to put space between graphs to avoid overlap\n",
    "# add graph details and plot using data above\n",
    "plt.tight_layout()\n",
    "plt.subplot(1,2,1)\n",
    "plt.subplots_adjust(right=1.5)\n",
    "plt.title('Show vs. no show % for male appointments')\n",
    "plt.ylabel('Percentage')\n",
    "plt.bar(['Show','No show'],[appointments_males_show, appointments_males_noshow]);\n",
    "\n",
    "# add graph details and plot using data above\n",
    "plt.subplot(1,2,2)\n",
    "plt.title('Show vs. no show % for female appointments')\n",
    "plt.ylabel('Percentage')\n",
    "plt.bar(['Show','No show'],[appointments_females_show, appointments_females_noshow],color='orange');"
   ]
  },
  {
   "cell_type": "markdown",
   "id": "23af4ad2",
   "metadata": {
    "slideshow": {
     "slide_type": "slide"
    }
   },
   "source": [
    "__As you saw in the last two plots, they are almost identical! There is a very small difference; 79.7% of the females show up for their appointments while 80.0% of the males do. This means that for being a male or female in Brazil does not significantly affect your chances to go to your appointment. Was that what you expected or was it a surprise?__\n",
    "\n",
    "__Let's move on to analysing other variables!__"
   ]
  },
  {
   "cell_type": "markdown",
   "id": "fd5e387e",
   "metadata": {
    "slideshow": {
     "slide_type": "slide"
    }
   },
   "source": [
    "__Are patients more or less likely to go to their appointments if they book it on the same day? Let's find out.__"
   ]
  },
  {
   "cell_type": "markdown",
   "id": "6887caee",
   "metadata": {
    "slideshow": {
     "slide_type": "slide"
    }
   },
   "source": [
    "__To do this, let's add a new row, same_day, which says True if scheduled_day and appointment_day are equal and False if they are not.__"
   ]
  },
  {
   "cell_type": "code",
   "execution_count": 10,
   "id": "52d2eff8",
   "metadata": {
    "slideshow": {
     "slide_type": "fragment"
    }
   },
   "outputs": [
    {
     "data": {
      "text/html": [
       "<div>\n",
       "<style scoped>\n",
       "    .dataframe tbody tr th:only-of-type {\n",
       "        vertical-align: middle;\n",
       "    }\n",
       "\n",
       "    .dataframe tbody tr th {\n",
       "        vertical-align: top;\n",
       "    }\n",
       "\n",
       "    .dataframe thead th {\n",
       "        text-align: right;\n",
       "    }\n",
       "</style>\n",
       "<table border=\"1\" class=\"dataframe\">\n",
       "  <thead>\n",
       "    <tr style=\"text-align: right;\">\n",
       "      <th></th>\n",
       "      <th>patient_id</th>\n",
       "      <th>appointment_id</th>\n",
       "      <th>gender</th>\n",
       "      <th>scheduled_day</th>\n",
       "      <th>appointment_day</th>\n",
       "      <th>age</th>\n",
       "      <th>neighbourhood</th>\n",
       "      <th>scholarship</th>\n",
       "      <th>hypertension</th>\n",
       "      <th>diabetes</th>\n",
       "      <th>alcoholism</th>\n",
       "      <th>handicap</th>\n",
       "      <th>sms_received</th>\n",
       "      <th>no_show</th>\n",
       "      <th>same_day</th>\n",
       "    </tr>\n",
       "  </thead>\n",
       "  <tbody>\n",
       "    <tr>\n",
       "      <th>0</th>\n",
       "      <td>2.987250e+13</td>\n",
       "      <td>5642903</td>\n",
       "      <td>F</td>\n",
       "      <td>2016-04-29</td>\n",
       "      <td>2016-04-29</td>\n",
       "      <td>62</td>\n",
       "      <td>JARDIM DA PENHA</td>\n",
       "      <td>0</td>\n",
       "      <td>1</td>\n",
       "      <td>0</td>\n",
       "      <td>0</td>\n",
       "      <td>0</td>\n",
       "      <td>0</td>\n",
       "      <td>No</td>\n",
       "      <td>True</td>\n",
       "    </tr>\n",
       "    <tr>\n",
       "      <th>1</th>\n",
       "      <td>5.589978e+14</td>\n",
       "      <td>5642503</td>\n",
       "      <td>M</td>\n",
       "      <td>2016-04-29</td>\n",
       "      <td>2016-04-29</td>\n",
       "      <td>56</td>\n",
       "      <td>JARDIM DA PENHA</td>\n",
       "      <td>0</td>\n",
       "      <td>0</td>\n",
       "      <td>0</td>\n",
       "      <td>0</td>\n",
       "      <td>0</td>\n",
       "      <td>0</td>\n",
       "      <td>No</td>\n",
       "      <td>True</td>\n",
       "    </tr>\n",
       "    <tr>\n",
       "      <th>2</th>\n",
       "      <td>4.262962e+12</td>\n",
       "      <td>5642549</td>\n",
       "      <td>F</td>\n",
       "      <td>2016-04-29</td>\n",
       "      <td>2016-04-29</td>\n",
       "      <td>62</td>\n",
       "      <td>MATA DA PRAIA</td>\n",
       "      <td>0</td>\n",
       "      <td>0</td>\n",
       "      <td>0</td>\n",
       "      <td>0</td>\n",
       "      <td>0</td>\n",
       "      <td>0</td>\n",
       "      <td>No</td>\n",
       "      <td>True</td>\n",
       "    </tr>\n",
       "  </tbody>\n",
       "</table>\n",
       "</div>"
      ],
      "text/plain": [
       "     patient_id  appointment_id gender scheduled_day appointment_day  age  \\\n",
       "0  2.987250e+13         5642903      F    2016-04-29      2016-04-29   62   \n",
       "1  5.589978e+14         5642503      M    2016-04-29      2016-04-29   56   \n",
       "2  4.262962e+12         5642549      F    2016-04-29      2016-04-29   62   \n",
       "\n",
       "     neighbourhood  scholarship  hypertension  diabetes  alcoholism  handicap  \\\n",
       "0  JARDIM DA PENHA            0             1         0           0         0   \n",
       "1  JARDIM DA PENHA            0             0         0           0         0   \n",
       "2    MATA DA PRAIA            0             0         0           0         0   \n",
       "\n",
       "   sms_received no_show  same_day  \n",
       "0             0      No      True  \n",
       "1             0      No      True  \n",
       "2             0      No      True  "
      ]
     },
     "execution_count": 10,
     "metadata": {},
     "output_type": "execute_result"
    }
   ],
   "source": [
    "df['same_day'] = df['scheduled_day'] == df['appointment_day']\n",
    "df.head(3)"
   ]
  },
  {
   "cell_type": "markdown",
   "id": "c9049c3d",
   "metadata": {
    "slideshow": {
     "slide_type": "slide"
    }
   },
   "source": [
    "__Now, let's make two new sub dataframes: One where the appointment was set up on the same day (In other words, scheduled_day is equal to appointment_day) and the other where the appointment was NOT set up on the same day.__"
   ]
  },
  {
   "cell_type": "code",
   "execution_count": 11,
   "id": "d7e5e3f4",
   "metadata": {
    "slideshow": {
     "slide_type": "fragment"
    }
   },
   "outputs": [],
   "source": [
    "df_same_day = df.query(\"same_day == True\")\n",
    "df_not_same_day = df.query(\"same_day == False\")"
   ]
  },
  {
   "cell_type": "markdown",
   "id": "02c4ecc5",
   "metadata": {
    "slideshow": {
     "slide_type": "slide"
    }
   },
   "source": [
    "__Let's check if having scheduling an appointment for the same day affects the chances of the patient going to that appointment.__\n",
    "\n",
    "__We can do this by checking the percentage of people in our new sub dataframes.__"
   ]
  },
  {
   "cell_type": "markdown",
   "id": "8e5d96d6",
   "metadata": {
    "slideshow": {
     "slide_type": "slide"
    }
   },
   "source": [
    "__First, let's do some calculations. We will reuse the show_percentage function we used before for the below.__"
   ]
  },
  {
   "cell_type": "code",
   "execution_count": 12,
   "id": "f68b2514",
   "metadata": {
    "slideshow": {
     "slide_type": "fragment"
    }
   },
   "outputs": [],
   "source": [
    "# get show and no show % for same day appointments\n",
    "appointments_same_day_show = show_percentage(df_same_day)\n",
    "appointments_same_day_noshow = 100 - appointments_same_day_show\n",
    "\n",
    "# get show and no show % for appointments scheduled and done in different days\n",
    "appointments_not_same_day_show = show_percentage(df_not_same_day)\n",
    "appointments_not_same_day_noshow = 100 - appointments_not_same_day_show"
   ]
  },
  {
   "cell_type": "markdown",
   "id": "3901e874",
   "metadata": {
    "slideshow": {
     "slide_type": "slide"
    }
   },
   "source": [
    "__Now, let's plot the results!__"
   ]
  },
  {
   "cell_type": "code",
   "execution_count": 13,
   "id": "df356a02",
   "metadata": {
    "slideshow": {
     "slide_type": "fragment"
    }
   },
   "outputs": [
    {
     "data": {
      "image/png": "[encoded data removed]",
      "text/plain": [
       "<Figure size 432x288 with 1 Axes>"
      ]
     },
     "metadata": {
      "needs_background": "light"
     },
     "output_type": "display_data"
    }
   ],
   "source": [
    "# setup the graph and then plot it\n",
    "df_days_showups = pd.DataFrame({\n",
    "    '': ['Same day', 'Different days'],\n",
    "    'Show': [appointments_same_day_show, appointments_not_same_day_show],\n",
    "    'No show': [appointments_same_day_noshow, appointments_not_same_day_noshow]\n",
    "    })\n",
    "  \n",
    "df_days_showups.plot(x = '', y = ['Show', 'No show'],\n",
    "                     kind= 'bar', title = 'show/no show for same and different days',\n",
    "                     ylabel = 'Percentage');"
   ]
  },
  {
   "cell_type": "markdown",
   "id": "a33cdf24",
   "metadata": {
    "slideshow": {
     "slide_type": "slide"
    }
   },
   "source": [
    "__Interesting! It seems the vast majority of the people who book an appointment in the same day attend it, while nearly a third of people who schedule their appointments for other days don't go to their appointments.__"
   ]
  },
  {
   "cell_type": "markdown",
   "id": "d4585392",
   "metadata": {
    "slideshow": {
     "slide_type": "slide"
    }
   },
   "source": [
    "__Now, let's check the mean age of the patients in each city. To do this, let's extract the list of all unique cities and get the mean of all of them:__"
   ]
  },
  {
   "cell_type": "code",
   "execution_count": 14,
   "id": "98d82a3a",
   "metadata": {
    "slideshow": {
     "slide_type": "fragment"
    }
   },
   "outputs": [],
   "source": [
    "\n",
    "# get list of neighbourhoods in the dataset\n",
    "neighbourhood_list = list(df['neighbourhood'].unique())\n",
    "neighbourhood_mean_ages = []\n",
    "# get mean age for each neighbourhood by querying all of the cities and then storing the mean age\n",
    "# for all of them in neighbourhood_mean_ages\n",
    "for place in neighbourhood_list:\n",
    "    df_temp = df[df['neighbourhood'] == place]\n",
    "    temp_mean_age = df_temp['age'].mean()\n",
    "    neighbourhood_mean_ages.append(round(temp_mean_age,1))"
   ]
  },
  {
   "cell_type": "markdown",
   "id": "6c78de48",
   "metadata": {
    "slideshow": {
     "slide_type": "slide"
    }
   },
   "source": [
    "# Conclusion\n",
    "\n",
    "The data had a few typos and had no missing values or duplications. It was largely ready to analyse and just needed some small editts.\n",
    "We can conclude the following from the data analysis we have done:\n",
    "1. There is no difference between males and females attendance if we look at all of the appointments.\n",
    "2. Patients are very likely to attend the appointments if they scheduled it during the same day, and have approximately a 30% chance of NOT attending the appointments if they did not schedule it during the same day\n",
    "\n",
    "It is important to note that that this data had some limitations:\n",
    "1. The whole data set was for appointments in Brazil; other countries may have different results.\n",
    "2. The data set only included appointments made in 2016. It is possible that upon analysing other years there would be a difference in the results of the anaylsis.\n",
    "\n",
    "Finally, the data could be analysed even further with more information regarding the patients such as their education level or incomes."
   ]
  },
  {
   "cell_type": "markdown",
   "id": "dea8eb28",
   "metadata": {
    "slideshow": {
     "slide_type": "slide"
    }
   },
   "source": [
    "__The analysis of data in regards to whether or not patients show up to their appointments is now over.__\n",
    "\n",
    "__The next part uses some further plots to further explore the data.__"
   ]
  },
  {
   "cell_type": "markdown",
   "id": "a0245377",
   "metadata": {
    "slideshow": {
     "slide_type": "slide"
    }
   },
   "source": [
    "__Now, let's check the mean age of the patients in each city. To do this, let's extract the list of all unique cities and get the mean of all of them:__"
   ]
  },
  {
   "cell_type": "code",
   "execution_count": 15,
   "id": "e04fb7cb",
   "metadata": {
    "slideshow": {
     "slide_type": "slide"
    }
   },
   "outputs": [
    {
     "data": {
      "text/plain": [
       "81"
      ]
     },
     "execution_count": 15,
     "metadata": {},
     "output_type": "execute_result"
    }
   ],
   "source": [
    "# get list of neighbourhoods in the dataset\n",
    "neighbourhood_list = list(df['neighbourhood'].unique())\n",
    "neighbourhood_mean_ages = []\n",
    "\n",
    "# get mean age for each neighbourhood by querying all of the cities and then storing the mean age\n",
    "# for all of them in neighbourhood_mean_ages\n",
    "for place in neighbourhood_list:\n",
    "    df_temp = df[df['neighbourhood'] == place]\n",
    "    temp_mean_age = df_temp['age'].mean()\n",
    "    neighbourhood_mean_ages.append((round(temp_mean_age,1) , place))\n",
    "    \n",
    "# get number of neighbourhoods\n",
    "len(neighbourhood_list)"
   ]
  },
  {
   "cell_type": "markdown",
   "id": "7c4f1251",
   "metadata": {
    "slideshow": {
     "slide_type": "slide"
    }
   },
   "source": [
    "__Hmm. That went without problems, but there are too many neighbourhoods to plot in one graph. Let's take the top 10 neighbourhoods in terms of mean patient age.__"
   ]
  },
  {
   "cell_type": "code",
   "execution_count": 16,
   "id": "92259831",
   "metadata": {
    "slideshow": {
     "slide_type": "fragment"
    }
   },
   "outputs": [],
   "source": [
    "# sort our list to find the top 10 neighbourhoods with highest mean patient age\n",
    "neighbourhood_mean_ages.sort(reverse=True)\n",
    "\n",
    "# edit the list so it only has the top 10 neighbourhoods\n",
    "neighbourhood_mean_ages = neighbourhood_mean_ages[:10]\n",
    "\n",
    "# break the list into two lists, one for mean patient age and one for location so we can plot them\n",
    "mean_ages = []\n",
    "neighbourhoods = []\n",
    "for element in neighbourhood_mean_ages:\n",
    "    mean_ages.append(element[0])\n",
    "    neighbourhoods.append(element[1])"
   ]
  },
  {
   "cell_type": "markdown",
   "id": "507ce591",
   "metadata": {
    "slideshow": {
     "slide_type": "slide"
    }
   },
   "source": [
    "__All set! We just need to plot the data now.__"
   ]
  },
  {
   "cell_type": "code",
   "execution_count": 17,
   "id": "6961e291",
   "metadata": {
    "slideshow": {
     "slide_type": "fragment"
    }
   },
   "outputs": [
    {
     "data": {
      "image/png": "[encoded data removed]",
      "text/plain": [
       "<Figure size 432x288 with 1 Axes>"
      ]
     },
     "metadata": {
      "needs_background": "light"
     },
     "output_type": "display_data"
    }
   ],
   "source": [
    "# plot mean patient ages with their respective neighbourhoods\n",
    "plt.bar(neighbourhoods, mean_ages)\n",
    "plt.title('Top 10 cities with highest mean patient ages')\n",
    "# rotate x axis labels by 90 degrees so they can be read\n",
    "plt.xticks(rotation = 90)\n",
    "plt.show()"
   ]
  },
  {
   "cell_type": "markdown",
   "id": "08db6b91",
   "metadata": {
    "slideshow": {
     "slide_type": "slide"
    }
   },
   "source": [
    "__Let's modify our data by adding a new column which shows whether a patient has a health condition (diabetes or hyper tension or both).__"
   ]
  },
  {
   "cell_type": "code",
   "execution_count": 18,
   "id": "1f55b8b3",
   "metadata": {
    "slideshow": {
     "slide_type": "fragment"
    }
   },
   "outputs": [],
   "source": [
    "# add a health_condition column, which has a value bigger than 0 if patient has no\n",
    "# health conditions, 1 if he has diabetes or hypertension, and 2 if he has both.\n",
    "\n",
    "df['health_condition'] = df['hypertension'] + df['diabetes']\n",
    "\n",
    "# add two sub dataframes, one which contains patients which have hypertension or\n",
    "# diabetes or both, and the other which contains patients who have neither.\n",
    "df_health_condition_true = df.query('health_condition > 0')\n",
    "df_health_condition_false = df.query('health_condition == 0')"
   ]
  },
  {
   "cell_type": "markdown",
   "id": "eae15e12",
   "metadata": {
    "slideshow": {
     "slide_type": "slide"
    }
   },
   "source": [
    "__Now, let's use these new dataframes to plot the proportion of people who have at at least one health condition:__"
   ]
  },
  {
   "cell_type": "code",
   "execution_count": 19,
   "id": "cab7c066",
   "metadata": {
    "slideshow": {
     "slide_type": "fragment"
    }
   },
   "outputs": [
    {
     "data": {
      "image/png": "[encoded data removed]",
      "text/plain": [
       "<Figure size 432x288 with 1 Axes>"
      ]
     },
     "metadata": {},
     "output_type": "display_data"
    }
   ],
   "source": [
    "# get number of patients with and without health conditions\n",
    "patients_with_health_conditions = df_health_condition_true.shape[0]\n",
    "patients_without_health_conditions = df_health_condition_false.shape[0]\n",
    "\n",
    "# setup the array for the pie chart, then plot the pie chart\n",
    "data = np.array([patients_with_health_conditions, patients_without_health_conditions])\n",
    "pie_labels = ['Has at least 1 health condition(s)', 'Has no health conditions']\n",
    "pie_colors = ['orangered','limegreen']\n",
    "plt.pie(data, labels = pie_labels, colors = pie_colors, autopct='%1.0f%%');"
   ]
  },
  {
   "cell_type": "markdown",
   "id": "45fd70be",
   "metadata": {
    "slideshow": {
     "slide_type": "slide"
    }
   },
   "source": [
    "__This marks the end of this project! Hope you enjoyed it.__"
   ]
  }
 ],
 "metadata": {
  "celltoolbar": "Slideshow",
  "kernelspec": {
   "display_name": "Python 3 (ipykernel)",
   "language": "python",
   "name": "python3"
  },
  "language_info": {
   "codemirror_mode": {
    "name": "ipython",
    "version": 3
   },
   "file_extension": ".py",
   "mimetype": "text/x-python",
   "name": "python",
   "nbconvert_exporter": "python",
   "pygments_lexer": "ipython3",
   "version": "3.9.7"
  },
  "rise": {
   "scroll": true
  }
 },
 "nbformat": 4,
 "nbformat_minor": 5
}
